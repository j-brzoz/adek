{
 "cells": [
  {
   "cell_type": "code",
   "execution_count": 1,
   "metadata": {},
   "outputs": [],
   "source": [
    "class Graph():\n",
    "\n",
    "    def __init__(self, edges, n_nodes):\n",
    "        self.n_nodes = n_nodes\n",
    "        self.matrix = [[] for i in range(n_nodes)]\n",
    "        self.nodes = set()\n",
    " \n",
    "        for (src, dest, weight) in edges:\n",
    "            self.matrix[src].append((dest, weight))\n",
    "            self.nodes.add(src)\n",
    "\n",
    "    def __str__(self):\n",
    "        output = \"\"\n",
    "        for src in range(len(self.matrix)):\n",
    "            for pair in self.matrix[src]:\n",
    "                output += f'({src} --{pair[1]}--> {pair[0]}) '\n",
    "            output += \"\\n\"\n",
    "        return output"
   ]
  },
  {
   "cell_type": "code",
   "execution_count": 2,
   "metadata": {},
   "outputs": [],
   "source": [
    "def edges_from_file(filename):\n",
    "    edges = []\n",
    "    file = open(filename, 'r')\n",
    "    for line in file:\n",
    "        edges.append((int(line[0]), int(line[2]), int(line[4])))\n",
    "    return edges"
   ]
  },
  {
   "cell_type": "markdown",
   "metadata": {},
   "source": [
    "![Alt text](image.png)"
   ]
  },
  {
   "cell_type": "code",
   "execution_count": 3,
   "metadata": {},
   "outputs": [
    {
     "name": "stdout",
     "output_type": "stream",
     "text": [
      "(0 --1--> 1) (0 --3--> 3) (0 --5--> 5) \n",
      "(1 --1--> 0) (1 --4--> 3) (1 --9--> 8) \n",
      "(2 --1--> 5) (2 --2--> 8) (2 --3--> 7) \n",
      "(3 --3--> 0) (3 --4--> 1) (3 --6--> 4) (3 --4--> 6) \n",
      "(4 --6--> 3) (4 --3--> 6) (4 --3--> 9) \n",
      "(5 --5--> 0) (5 --1--> 2) (5 --2--> 6) \n",
      "(6 --4--> 3) (6 --3--> 4) (6 --2--> 5) \n",
      "(7 --3--> 2) \n",
      "(8 --9--> 1) (8 --2--> 2) (8 --1--> 9) \n",
      "(9 --3--> 4) (9 --1--> 8) \n",
      "\n"
     ]
    }
   ],
   "source": [
    "edges = edges_from_file('data.txt')\n",
    "n_nodes = 10\n",
    "graph = Graph(edges, n_nodes)\n",
    "\n",
    "print(graph)"
   ]
  },
  {
   "cell_type": "code",
   "execution_count": 4,
   "metadata": {},
   "outputs": [],
   "source": [
    "def DFS(graph, node):\n",
    "    visited = set()\n",
    "    stack = []\n",
    "\n",
    "    stack.append(node)\n",
    "    visited.add(node)\n",
    "\n",
    "    while len(stack) != 0:\n",
    "        node_from_stack = stack.pop()\n",
    "        print(f'in {node_from_stack} node')\n",
    "    \n",
    "        for pair in graph.matrix[node_from_stack]:\n",
    "            if pair[0] not in visited:\n",
    "                stack.append(pair[0])\n",
    "                visited.add(pair[0])"
   ]
  },
  {
   "cell_type": "code",
   "execution_count": 5,
   "metadata": {},
   "outputs": [],
   "source": [
    "def BFS(graph, node):\n",
    "    visited = set()\n",
    "    queue = []\n",
    "    \n",
    "    queue.append(node)\n",
    "    visited.add(node)\n",
    "    \n",
    "    while len(queue) != 0:\n",
    "        node_from_queue = queue.pop(0)\n",
    "        print(f'in {node_from_queue} node')\n",
    "\n",
    "        for pair in graph.matrix[node_from_queue]:\n",
    "            if pair[0] not in visited:\n",
    "                queue.append(pair[0])\n",
    "                visited.add(pair[0])"
   ]
  },
  {
   "cell_type": "code",
   "execution_count": 6,
   "metadata": {},
   "outputs": [],
   "source": [
    "def min_distance(distances, queue):\n",
    "    min_dist = 9999999999\n",
    "    min_ix = -1\n",
    "\n",
    "    for ix, dist in enumerate(distances):\n",
    "        if dist < min_dist and ix in queue:\n",
    "            min_dist = dist\n",
    "            min_ix = ix\n",
    "\n",
    "    return min_ix\n",
    "\n",
    "\n",
    "def dijkstra(graph, node):\n",
    "    distances = [999999999] * graph.n_nodes\n",
    "    distances[node] = 0\n",
    "    \n",
    "    queue = graph.nodes.copy()\n",
    "\n",
    "    while len(queue) != 0:\n",
    "        if min_distance(distances, queue) != -1:\n",
    "            node = min_distance(distances, queue) \n",
    "        else:\n",
    "            break\n",
    "\n",
    "        queue.remove(node)\n",
    "\n",
    "        for pair in graph.matrix[node]:\n",
    "            if pair[0] in queue:\n",
    "                altDistance = distances[node] + pair[1]\n",
    "                if altDistance < distances[pair[0]]:\n",
    "                    distances[pair[0]] = altDistance\n",
    "\n",
    "    for ix, dist in enumerate(distances):\n",
    "        print(f'{ix} = {dist}')"
   ]
  },
  {
   "cell_type": "code",
   "execution_count": 7,
   "metadata": {},
   "outputs": [
    {
     "name": "stdout",
     "output_type": "stream",
     "text": [
      "in 0 node\n",
      "in 5 node\n",
      "in 6 node\n",
      "in 4 node\n",
      "in 9 node\n",
      "in 8 node\n",
      "in 2 node\n",
      "in 7 node\n",
      "in 3 node\n",
      "in 1 node\n"
     ]
    }
   ],
   "source": [
    "DFS(graph, 0)"
   ]
  },
  {
   "cell_type": "code",
   "execution_count": 8,
   "metadata": {},
   "outputs": [
    {
     "name": "stdout",
     "output_type": "stream",
     "text": [
      "in 0 node\n",
      "in 1 node\n",
      "in 3 node\n",
      "in 5 node\n",
      "in 8 node\n",
      "in 4 node\n",
      "in 6 node\n",
      "in 2 node\n",
      "in 9 node\n",
      "in 7 node\n"
     ]
    }
   ],
   "source": [
    "BFS(graph, 0)"
   ]
  },
  {
   "cell_type": "code",
   "execution_count": 9,
   "metadata": {},
   "outputs": [
    {
     "name": "stdout",
     "output_type": "stream",
     "text": [
      "0 = 0\n",
      "1 = 1\n",
      "2 = 6\n",
      "3 = 3\n",
      "4 = 9\n",
      "5 = 5\n",
      "6 = 7\n",
      "7 = 9\n",
      "8 = 8\n",
      "9 = 9\n"
     ]
    }
   ],
   "source": [
    "dijkstra(graph, 0)"
   ]
  }
 ],
 "metadata": {
  "kernelspec": {
   "display_name": "Python 3",
   "language": "python",
   "name": "python3"
  },
  "language_info": {
   "codemirror_mode": {
    "name": "ipython",
    "version": 3
   },
   "file_extension": ".py",
   "mimetype": "text/x-python",
   "name": "python",
   "nbconvert_exporter": "python",
   "pygments_lexer": "ipython3",
   "version": "3.10.10"
  }
 },
 "nbformat": 4,
 "nbformat_minor": 2
}
